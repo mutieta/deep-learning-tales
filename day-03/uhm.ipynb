{
 "cells": [
  {
   "cell_type": "markdown",
   "id": "36cc5247",
   "metadata": {},
   "source": [
    "me tired, me no want to study."
   ]
  }
 ],
 "metadata": {
  "language_info": {
   "name": "python"
  }
 },
 "nbformat": 4,
 "nbformat_minor": 5
}
