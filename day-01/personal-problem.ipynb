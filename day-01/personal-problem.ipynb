{
 "cells": [
  {
   "cell_type": "markdown",
   "id": "4e34d72a",
   "metadata": {},
   "source": [
    "## Personal Problem?\n",
    "### I’m bored and trying to be cool.\n",
    "\n",
    "A few weeks ago, I watched my senior defend their thesis, and it was really entertaining — everyone was so cool! Guess what? I want to be cool as well! So this summer, I’m dedicating my time to sharpening my skills in deep learning, as someone who has absolutely no idea what’s going on beyond 0 and 1. Who knows? **Maybe I’ll publish my own research paper under my name and find my way back into coding**."
   ]
  },
  {
   "cell_type": "markdown",
   "id": "6a04757d",
   "metadata": {},
   "source": [
    "### Another thing! \n",
    "\n",
    "It’s been two years since I started exploring the internet, but somehow I still haven’t been able to utilize the resources I have to their fullest capacity and that’s driving me mad! I’m so unsatisfied with myself. So, with this journal, I hope I can finally make use of what’s available. Let’s see how this summer shapes me!"
   ]
  }
 ],
 "metadata": {
  "language_info": {
   "name": "python"
  }
 },
 "nbformat": 4,
 "nbformat_minor": 5
}
